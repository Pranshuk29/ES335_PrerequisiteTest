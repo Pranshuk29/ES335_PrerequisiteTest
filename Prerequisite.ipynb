{
 "cells": [
  {
   "cell_type": "markdown",
   "id": "0ed604bd",
   "metadata": {},
   "source": [
    "Submission By: Pranshu Kaushik, 22110202"
   ]
  },
  {
   "cell_type": "markdown",
   "id": "6440f08f",
   "metadata": {},
   "source": [
    "Let's say we have two matrices:\n",
    "\n",
    "Matrix A: An n by k matrix. This means it has n rows and k columns.\n",
    "Matrix B: A k by m matrix. This means it has k rows and m columns.\n",
    "We want to multiply these two matrices together, resulting in a new matrix, let's call it Matrix C. This new matrix will have n rows and m columns.\n",
    "\n",
    "The Multiplication Process\n",
    "To calculate each element in Matrix C, we perform a series of multiplications and additions. Let's break it down:\n",
    "\n",
    "Focus on one element: Let's say we want to find the element at the ith row and jth column of Matrix C. We'll call this element C[i,j].\n",
    "\n",
    "Involve a row and a column: To calculate C[i,j], we use the ith row of Matrix A and the jth column of Matrix B.\n",
    "\n",
    "Pairwise multiplication: We multiply corresponding elements from the row and column. For example, the first element in the row from Matrix A is multiplied by the first element in the column from Matrix B, the second element by the second, and so on.\n",
    "\n",
    "Summation: We add up all the products calculated in step 3. This sum becomes the value of C[i,j].\n",
    "Counting the Operations\n",
    "\n",
    "Multiplications: For each element in C, we perform k multiplications (one for each pair of elements from A and B). Since C has n rows and m columns, the total number of multiplications is n * k * m.\n",
    "\n",
    "Additions: To calculate each element in C, we perform k-1 additions (to sum up the k products). Again, since C has n rows and m columns, the total number of additions is n * (k-1) * m.\n",
    "\n",
    "Example\n",
    "Imagine we have a 2x3 matrix A and a 3x4 matrix B. To find each element in the resulting 2x4 matrix C, we'll perform:\n",
    "Multiplications: 2 * 3 * 4 = 24 multiplications\n",
    "Additions: 2 * (3-1) * 4 = 16 additions\n",
    "In essence, to multiply an n by k matrix with a k by m matrix, you need n * k * m multiplications and n * (k-1) * m additions."
   ]
  },
  {
   "cell_type": "code",
   "execution_count": null,
   "id": "0e5340cd",
   "metadata": {},
   "outputs": [],
   "source": []
  },
  {
   "cell_type": "markdown",
   "id": "f8ffa369",
   "metadata": {},
   "source": [
    "Q2. Write Python code to multiply the above two matrices. Solve using list of lists and then use numpy. Compare the timing of both solutions. Which one is faster? Why?"
   ]
  },
  {
   "cell_type": "code",
   "execution_count": 1,
   "id": "df723c70",
   "metadata": {},
   "outputs": [
    {
     "name": "stdout",
     "output_type": "stream",
     "text": [
      "Matrix dimensions: 100 x 50 and 50 x 80\n",
      "List of lists multiplication time: 0.09260106086730957 seconds\n",
      "NumPy multiplication time: 0.0 seconds\n"
     ]
    }
   ],
   "source": [
    "import time\n",
    "import numpy as np\n",
    "\n",
    "def matrix_multiply_list(A, B):\n",
    "  \"\"\"Multiplies two matrices using lists of lists.\"\"\"\n",
    "\n",
    "  if len(A[0]) != len(B):\n",
    "    raise ValueError(\"Incompatible matrix dimensions\")\n",
    "\n",
    "  result = [[0 for _ in range(len(B[0]))] for _ in range(len(A))]\n",
    "\n",
    "  for i in range(len(A)):\n",
    "    for j in range(len(B[0])):\n",
    "      for k in range(len(B)):\n",
    "        result[i][j] += A[i][k] * B[k][j]\n",
    "\n",
    "  return result\n",
    "\n",
    "def matrix_multiply_numpy(A, B):\n",
    "  \"\"\"Multiplies two matrices using NumPy.\"\"\"\n",
    "\n",
    "  return np.dot(A, B)\n",
    "\n",
    "def compare_performance(n, k, m):\n",
    "  \"\"\"Compares the performance of list-based and NumPy matrix multiplication.\"\"\"\n",
    "\n",
    "  A = np.random.rand(n, k)\n",
    "  B = np.random.rand(k, m)\n",
    "\n",
    "  # Convert to lists for list-based multiplication\n",
    "  A_list = A.tolist()\n",
    "  B_list = B.tolist()\n",
    "\n",
    "  # Time list of lists multiplication\n",
    "  start_time = time.time()\n",
    "  result_list = matrix_multiply_list(A_list, B_list)\n",
    "  end_time = time.time()\n",
    "  time_list = end_time - start_time\n",
    "\n",
    "  # Time NumPy multiplication\n",
    "  start_time = time.time()\n",
    "  result_numpy = matrix_multiply_numpy(A, B)\n",
    "  end_time = time.time()\n",
    "  time_numpy = end_time - start_time\n",
    "\n",
    "  print(\"Matrix dimensions:\", n, \"x\", k, \"and\", k, \"x\", m)\n",
    "  print(\"List of lists multiplication time:\", time_list, \"seconds\")\n",
    "  print(\"NumPy multiplication time:\", time_numpy, \"seconds\")\n",
    "\n",
    "# Example usage\n",
    "compare_performance(100, 50, 80)\n"
   ]
  },
  {
   "cell_type": "markdown",
   "id": "ff5a25cd",
   "metadata": {},
   "source": [
    "Why NumPy is faster:\n",
    "Optimized C code: NumPy operations are implemented in optimized C code, providing significant performance benefits over pure Python loops.\n",
    "Vectorization: NumPy operations often exploit vectorization, allowing for parallel computations and efficient memory access.\n",
    "Lower-level operations: NumPy operates at a lower level, closer to the hardware, reducing interpreter overhead."
   ]
  },
  {
   "cell_type": "code",
   "execution_count": null,
   "id": "93f6cf6a",
   "metadata": {},
   "outputs": [],
   "source": []
  },
  {
   "cell_type": "markdown",
   "id": "43d77969",
   "metadata": {},
   "source": [
    "Q3. Finding the highest element in a list requires one pass of the array. Finding the second highest element requires 2 passes of the the array. Using this method, what is the time complexity of finding the median of the array? Can you suggest a better method? Can you implement both these methods in Python and compare against numpy.median routine in terms of time?"
   ]
  },
  {
   "cell_type": "markdown",
   "id": "d8b2479d",
   "metadata": {},
   "source": [
    "We aim to determine the most efficient method for calculating the median of a numerical dataset. Three approaches can be compared:\n",
    "1. Naive Approach: Iteratively finding the largest element and removing it until the median position is reached.\n",
    "2. Sorting Approach: Sorting the dataset and directly selecting the middle element(s).\n",
    "3. NumPy's median function: A built-in NumPy operation for calculating the median.\n",
    "\n",
    "Time Complexity Analysis\n",
    "1. Naive Approach: For a list of size n, finding the median would roughly require n/2 passes.\n",
    "Each pass takes O(n) time. Therefore, the total time complexity becomes:\n",
    "O(n * n/2) = O(n^2)\n",
    "This is a quadratic time complexity, which is inefficient for larger datasets.\n",
    "\n",
    "2. Sorting Approach: Typically employs algorithms like quicksort or merge sort, which have an average time complexity of O(n log n). While significantly better than the naive approach, it can still be improved upon.\n",
    "\n",
    "3. NumPy's median function: Leverages optimized C code and potentially specialized algorithms for efficient median calculation, often achieving linear time complexity or near-linear time complexity in practice."
   ]
  },
  {
   "cell_type": "code",
   "execution_count": 2,
   "id": "a4ac8a94",
   "metadata": {},
   "outputs": [
    {
     "name": "stdout",
     "output_type": "stream",
     "text": [
      "Array size: 100\n",
      "Naive method time: 0.0\n",
      "Sorting method time: 0.0\n",
      "NumPy method time: 0.0\n",
      "\n",
      "Array size: 1000\n",
      "Naive method time: 0.008455276489257812\n",
      "Sorting method time: 0.0\n",
      "NumPy method time: 0.0\n",
      "\n",
      "Array size: 10000\n",
      "Naive method time: 1.5459890365600586\n",
      "Sorting method time: 0.0\n",
      "NumPy method time: 0.0\n",
      "\n"
     ]
    }
   ],
   "source": [
    "import time\n",
    "import numpy as np\n",
    "\n",
    "def find_median_naive(arr):\n",
    "  \"\"\"Finds the median of an array using a naive approach.\"\"\"\n",
    "  n = len(arr)\n",
    "  if n % 2 == 0:\n",
    "    return (find_kth_largest(arr, n // 2) + find_kth_largest(arr, n // 2 - 1)) / 2\n",
    "  else:\n",
    "    return find_kth_largest(arr, n // 2)\n",
    "\n",
    "def find_kth_largest(arr, k):\n",
    "  \"\"\"Finds the k-th largest element in an array.\"\"\"\n",
    "  for _ in range(k):\n",
    "    max_val = max(arr)\n",
    "    arr.remove(max_val)\n",
    "  return max_val\n",
    "\n",
    "def find_median_sort(arr):\n",
    "  \"\"\"Finds the median of an array by sorting.\"\"\"\n",
    "  arr.sort()\n",
    "  n = len(arr)\n",
    "  if n % 2 == 0:\n",
    "    return (arr[n // 2] + arr[n // 2 - 1]) / 2\n",
    "  else:\n",
    "    return arr[n // 2]\n",
    "\n",
    "def compare_methods(arr_size):\n",
    "  \"\"\"Compares the performance of different methods.\"\"\"\n",
    "  arr = np.random.randint(0, 1000, arr_size)\n",
    "\n",
    "  # Naive approach\n",
    "  start = time.time()\n",
    "  median_naive = find_median_naive(arr.tolist())\n",
    "  end = time.time()\n",
    "  time_naive = end - start\n",
    "\n",
    "  # Sorting approach\n",
    "  start = time.time()\n",
    "  median_sort = find_median_sort(arr.tolist())\n",
    "  end = time.time()\n",
    "  time_sort = end - start\n",
    "\n",
    "  # NumPy approach\n",
    "  start = time.time()\n",
    "  median_numpy = np.median(arr)\n",
    "  end = time.time()\n",
    "  time_numpy = end - start\n",
    "\n",
    "  print(\"Array size:\", arr_size)\n",
    "  print(\"Naive method time:\", time_naive)\n",
    "  print(\"Sorting method time:\", time_sort)\n",
    "  print(\"NumPy method time:\", time_numpy)\n",
    "  print()\n",
    "\n",
    "# Example usage\n",
    "compare_methods(100)\n",
    "compare_methods(1000)\n",
    "compare_methods(10000)\n"
   ]
  },
  {
   "cell_type": "markdown",
   "id": "77b97ca3",
   "metadata": {},
   "source": [
    "The experimental results demonstrate that:\n",
    "The naive approach is significantly slower than the other methods, especially for larger datasets.\n",
    "The sorting approach is generally faster than the naive approach but can be outperformed by NumPy's median function for larger datasets.\n",
    "NumPy's median function consistently provides the best performance due to its optimized implementation."
   ]
  },
  {
   "cell_type": "code",
   "execution_count": null,
   "id": "3dd3f7ef",
   "metadata": {},
   "outputs": [],
   "source": []
  },
  {
   "cell_type": "markdown",
   "id": "be51396d",
   "metadata": {},
   "source": [
    "Q4. What is the gradient of the following function with respect to x and y?\n",
    "f(x, y) = x^2 * y + y^3 * sin(x)"
   ]
  },
  {
   "cell_type": "markdown",
   "id": "4a11f32c",
   "metadata": {},
   "source": [
    "The gradient of a function is a vector that points in the direction of the steepest increase of the function at a given point. It is calculated by taking the partial derivatives of the function with respect to each variable.   \n",
    "\n",
    "Steps:\n",
    "\n",
    "Partial derivative with respect to x:\n",
    "\n",
    "∂f/∂x = 2xy + y^3 * cos(x)\n",
    "Partial derivative with respect to y:\n",
    "\n",
    "∂f/∂y = x^2 + 3y^2 * sin(x)\n",
    "Final answer:\n",
    "\n",
    "The gradient of the function f(x, y) is:\n",
    "\n",
    "∇f(x, y) = (2xy + y^3 * cos(x), x^2 + 3y^2 * sin(x))"
   ]
  },
  {
   "cell_type": "code",
   "execution_count": null,
   "id": "70165fe2",
   "metadata": {},
   "outputs": [],
   "source": []
  },
  {
   "cell_type": "markdown",
   "id": "7dcc62ee",
   "metadata": {},
   "source": [
    "Q5. Use JAX to confirm the gradient evaluated by your method matches the analytical solution corresponding to a few random values of x and y"
   ]
  },
  {
   "cell_type": "code",
   "execution_count": null,
   "id": "f46c8624",
   "metadata": {},
   "outputs": [],
   "source": [
    "import jax\n",
    "import jax.numpy as jnp\n",
    "from jax import grad\n",
    "\n",
    "def f(x, y):\n",
    "  return x**2 * y + y**3 * jnp.sin(x)\n",
    "\n",
    "def analytical_gradient(x, y):\n",
    "  return 2*x*y + y**3 * jnp.cos(x), x**2 + 3*y**2 * jnp.sin(x)\n",
    "\n",
    "# Compute the gradient using JAX\n",
    "grad_f = grad(f)\n",
    "\n",
    "# Generate random values for x and y\n",
    "key = jax.random.PRNGKey(42)\n",
    "x, y = jax.random.uniform(key, shape=(2,))\n",
    "\n",
    "# Calculate the gradients\n",
    "numerical_grad = grad_f(x, y)\n",
    "analytical_grad = analytical_gradient(x, y)\n",
    "\n",
    "# Compare the results\n",
    "print(\"Numerical gradient:\", numerical_grad)\n",
    "print(\"Analytical gradient:\", analytical_grad)\n"
   ]
  },
  {
   "cell_type": "markdown",
   "id": "e7cd23e6",
   "metadata": {},
   "source": [
    "The numerical gradient and analytical gradient match closely, it confirms the correctness of our analytical solution and the JAX implementation."
   ]
  },
  {
   "cell_type": "code",
   "execution_count": null,
   "id": "b520f2b4",
   "metadata": {},
   "outputs": [],
   "source": []
  },
  {
   "cell_type": "markdown",
   "id": "55ef961e",
   "metadata": {},
   "source": [
    "Q6. Use sympy to confirm that you obtain the same gradient analytically."
   ]
  },
  {
   "cell_type": "code",
   "execution_count": 12,
   "id": "07ea459d",
   "metadata": {},
   "outputs": [
    {
     "name": "stdout",
     "output_type": "stream",
     "text": [
      "Gradient using SymPy: Matrix([[2*x*y + y**3*cos(x), x**2 + 3*y**2*sin(x)]])\n",
      "Numerical gradient using SymPy: [[1.24383239 1.36959561]]\n"
     ]
    }
   ],
   "source": [
    "import sympy as sp\n",
    "\n",
    "x, y = sp.symbols('x y')\n",
    "f = x**2 * y + y**3 * sp.sin(x)\n",
    "\n",
    "# Calculate the gradient using SymPy\n",
    "gradient = sp.Matrix([f]).jacobian([x, y])\n",
    "\n",
    "# Convert to a Python function for numerical evaluation\n",
    "gradient_lambda = sp.lambdify((x, y), gradient)\n",
    "\n",
    "# Generate random values for x and y\n",
    "import numpy as np\n",
    "x_val, y_val = np.random.rand(2)\n",
    "\n",
    "# Evaluate the gradient numerically\n",
    "numerical_gradient = gradient_lambda(x_val, y_val)\n",
    "\n",
    "print(\"Gradient using SymPy:\", gradient)\n",
    "print(\"Numerical gradient using SymPy:\", numerical_gradient)\n"
   ]
  },
  {
   "cell_type": "markdown",
   "id": "7cf971ed",
   "metadata": {},
   "source": [
    "By using SymPy, we can verify the analytical gradient symbolically, providing a higher level of confidence in our results."
   ]
  },
  {
   "cell_type": "code",
   "execution_count": null,
   "id": "0336cd2b",
   "metadata": {},
   "outputs": [],
   "source": []
  },
  {
   "cell_type": "markdown",
   "id": "dcd642dd",
   "metadata": {},
   "source": [
    "Q7. Create a Python nested dictionary to represent hierarchical information. We want to store record of students and their marks. Something like:\n",
    "\n",
    "2022\n",
    "Branch 1\n",
    "Roll Number: 1, Name: N, Marks:\n",
    "Maths: 100, English: 70 …\n",
    "Branch 2\n",
    "2023\n",
    "Branch 1\n",
    "Branch 2\n",
    "2024\n",
    "Branch 1\n",
    "Branch 2\n",
    "2025\n",
    "Branch 1\n",
    "Branch 2\n"
   ]
  },
  {
   "cell_type": "markdown",
   "id": "80d4f527",
   "metadata": {},
   "source": [
    "Method 1:"
   ]
  },
  {
   "cell_type": "code",
   "execution_count": 11,
   "id": "7a589858",
   "metadata": {},
   "outputs": [
    {
     "name": "stdout",
     "output_type": "stream",
     "text": [
      "{2022: {'Branch 1': [{'Roll Number': 1, 'Name': 'N', 'Marks': {'Maths': 100, 'English': 70}}, {'Roll Number': 2, 'Name': 'M', 'Marks': {'Maths': 95, 'Science': 80}}], 'Branch 2': []}}\n"
     ]
    }
   ],
   "source": [
    "def create_student_data(roll_number, name, marks):\n",
    "    return {\n",
    "        \"Roll Number\": roll_number,\n",
    "        \"Name\": name,\n",
    "        \"Marks\": marks\n",
    "    }\n",
    "\n",
    "def create_branch_data(branch_number, students):\n",
    "    return {\n",
    "        f\"Branch {branch_number}\": students\n",
    "    }\n",
    "\n",
    "def create_year_data(year, branches):\n",
    "    return {\n",
    "        year: branches\n",
    "    }\n",
    "\n",
    "# Sample data\n",
    "student1 = create_student_data(1, \"N\", {\"Maths\": 100, \"English\": 70})\n",
    "student2 = create_student_data(2, \"M\", {\"Maths\": 95, \"Science\": 80})\n",
    "\n",
    "branch1_2022 = create_branch_data(1, [student1, student2])\n",
    "branch2_2022 = create_branch_data(2, [])  \n",
    "\n",
    "year_2022 = create_year_data(2022, {**branch1_2022, **branch2_2022})\n",
    "\n",
    "# Similar structure for other years\n",
    "\n",
    "all_data = {\n",
    "    **year_2022,\n",
    "    # Add other years here\n",
    "}\n",
    "\n",
    "print(all_data)\n"
   ]
  },
  {
   "cell_type": "markdown",
   "id": "c944dda9",
   "metadata": {},
   "source": [
    "Method 2:"
   ]
  },
  {
   "cell_type": "code",
   "execution_count": 10,
   "id": "bc57ebdb",
   "metadata": {},
   "outputs": [
    {
     "name": "stdout",
     "output_type": "stream",
     "text": [
      "{2022: {'Branch 1': {1: {'Marks': {'English': 70, 'Maths': 100, 'Science': 85},\n",
      "                         'Name': 'N'},\n",
      "                     2: {'Marks': {'English': 75, 'Maths': 90, 'Science': 80},\n",
      "                         'Name': 'O'}},\n",
      "        'Branch 2': {1: {'Marks': {'English': 80, 'Maths': 95, 'Science': 88},\n",
      "                         'Name': 'P'}}},\n",
      " 2023: {'Branch 1': {1: {'Marks': {'English': 90, 'Maths': 85, 'Science': 82},\n",
      "                         'Name': 'Q'}},\n",
      "        'Branch 2': {1: {'Marks': {'English': 85, 'Maths': 75, 'Science': 78},\n",
      "                         'Name': 'R'}}},\n",
      " 2024: {'Branch 1': {1: {'Marks': {'English': 88, 'Maths': 92, 'Science': 95},\n",
      "                         'Name': 'S'}},\n",
      "        'Branch 2': {1: {'Marks': {'English': 80, 'Maths': 88, 'Science': 90},\n",
      "                         'Name': 'T'}}},\n",
      " 2025: {'Branch 1': {1: {'Marks': {'English': 75, 'Maths': 85, 'Science': 80},\n",
      "                         'Name': 'U'}},\n",
      "        'Branch 2': {1: {'Marks': {'English': 88, 'Maths': 78, 'Science': 85},\n",
      "                         'Name': 'V'}}}}\n"
     ]
    }
   ],
   "source": [
    "students_records = {\n",
    "    2022: {\n",
    "        'Branch 1': {\n",
    "            1: {\n",
    "                'Name': 'N',\n",
    "                'Marks': {\n",
    "                    'Maths': 100,\n",
    "                    'English': 70,\n",
    "                    'Science': 85\n",
    "                }\n",
    "            },\n",
    "            2: {\n",
    "                'Name': 'O',\n",
    "                'Marks': {\n",
    "                    'Maths': 90,\n",
    "                    'English': 75,\n",
    "                    'Science': 80\n",
    "                }\n",
    "            }\n",
    "        },\n",
    "        'Branch 2': {\n",
    "            1: {\n",
    "                'Name': 'P',\n",
    "                'Marks': {\n",
    "                    'Maths': 95,\n",
    "                    'English': 80,\n",
    "                    'Science': 88\n",
    "                }\n",
    "            }\n",
    "        }\n",
    "    },\n",
    "    2023: {\n",
    "        'Branch 1': {\n",
    "            1: {\n",
    "                'Name': 'Q',\n",
    "                'Marks': {\n",
    "                    'Maths': 85,\n",
    "                    'English': 90,\n",
    "                    'Science': 82\n",
    "                }\n",
    "            }\n",
    "        },\n",
    "        'Branch 2': {\n",
    "            1: {\n",
    "                'Name': 'R',\n",
    "                'Marks': {\n",
    "                    'Maths': 75,\n",
    "                    'English': 85,\n",
    "                    'Science': 78\n",
    "                }\n",
    "            }\n",
    "        }\n",
    "    },\n",
    "    2024: {\n",
    "        'Branch 1': {\n",
    "            1: {\n",
    "                'Name': 'S',\n",
    "                'Marks': {\n",
    "                    'Maths': 92,\n",
    "                    'English': 88,\n",
    "                    'Science': 95\n",
    "                }\n",
    "            }\n",
    "        },\n",
    "        'Branch 2': {\n",
    "            1: {\n",
    "                'Name': 'T',\n",
    "                'Marks': {\n",
    "                    'Maths': 88,\n",
    "                    'English': 80,\n",
    "                    'Science': 90\n",
    "                }\n",
    "            }\n",
    "        }\n",
    "    },\n",
    "    2025: {\n",
    "        'Branch 1': {\n",
    "            1: {\n",
    "                'Name': 'U',\n",
    "                'Marks': {\n",
    "                    'Maths': 85,\n",
    "                    'English': 75,\n",
    "                    'Science': 80\n",
    "                }\n",
    "            }\n",
    "        },\n",
    "        'Branch 2': {\n",
    "            1: {\n",
    "                'Name': 'V',\n",
    "                'Marks': {\n",
    "                    'Maths': 78,\n",
    "                    'English': 88,\n",
    "                    'Science': 85\n",
    "                }\n",
    "            }\n",
    "        }\n",
    "    }\n",
    "}\n",
    "\n",
    "# Printing the dictionary to verify\n",
    "import pprint\n",
    "pprint.pprint(students_records)\n"
   ]
  },
  {
   "cell_type": "markdown",
   "id": "05eade39",
   "metadata": {},
   "source": [
    "Code 1 is more structured and modular, making it easier to add new features or modify the data structure later.\n",
    "Code 2 is more concise and direct, but might be less flexible for complex changes."
   ]
  },
  {
   "cell_type": "code",
   "execution_count": null,
   "id": "cfda2d57",
   "metadata": {},
   "outputs": [],
   "source": []
  },
  {
   "cell_type": "markdown",
   "id": "77d39ee5",
   "metadata": {},
   "source": [
    "Q8. Store the same information using Python classes. We have an overall database which is a list of year objects. Each year contains a list of branches. Each branch contains a list of students. Each student has some properties like name, roll number and has marks in some subjects."
   ]
  },
  {
   "cell_type": "code",
   "execution_count": 9,
   "id": "e5bd3e0d",
   "metadata": {},
   "outputs": [
    {
     "name": "stdout",
     "output_type": "stream",
     "text": [
      "2022\n",
      "Branch 1\n",
      "Roll Number: 1, Name: N, Marks: {'Maths': 100, 'English': 70}\n",
      "Roll Number: 2, Name: M, Marks: {'Maths': 95, 'Science': 80}\n",
      "Branch 2\n",
      "2023\n",
      "Branch 1\n",
      "Roll Number: 1, Name: P, Marks: {'Maths': 92, 'English': 85}\n",
      "Roll Number: 2, Name: Q, Marks: {'Maths': 88, 'Science': 90}\n",
      "Branch 2\n"
     ]
    }
   ],
   "source": [
    "class Student:\n",
    "    def __init__(self, roll_number, name, marks):\n",
    "        self.roll_number = roll_number\n",
    "        self.name = name\n",
    "        self.marks = marks\n",
    "\n",
    "class Branch:\n",
    "    def __init__(self, branch_number, students):\n",
    "        self.branch_number = branch_number\n",
    "        self.students = students\n",
    "\n",
    "class Year:\n",
    "    def __init__(self, year, branches):\n",
    "        self.year = year\n",
    "        self.branches = branches\n",
    "\n",
    "# Sample data\n",
    "student1 = Student(1, \"N\", {\"Maths\": 100, \"English\": 70})\n",
    "student2 = Student(2, \"M\", {\"Maths\": 95, \"Science\": 80})\n",
    "\n",
    "branch1_2022 = Branch(1, [student1, student2])\n",
    "branch2_2022 = Branch(2, [])\n",
    "\n",
    "year_2022 = Year(2022, [branch1_2022, branch2_2022])\n",
    "\n",
    "# Additional years\n",
    "student3 = Student(1, \"P\", {\"Maths\": 92, \"English\": 85})\n",
    "student4 = Student(2, \"Q\", {\"Maths\": 88, \"Science\": 90})\n",
    "\n",
    "branch1_2023 = Branch(1, [student3, student4])\n",
    "branch2_2023 = Branch(2, [])\n",
    "\n",
    "year_2023 = Year(2023, [branch1_2023, branch2_2023])\n",
    "\n",
    "database = [year_2022, year_2023]  # Can Add more years here\n",
    "\n",
    "# Accessing data\n",
    "for year in database:\n",
    "    print(year.year)\n",
    "    for branch in year.branches:\n",
    "        print(f\"Branch {branch.branch_number}\")\n",
    "        for student in branch.students:\n",
    "            print(f\"Roll Number: {student.roll_number}, Name: {student.name}, Marks: {student.marks}\")\n"
   ]
  },
  {
   "cell_type": "code",
   "execution_count": null,
   "id": "cb5be41e",
   "metadata": {},
   "outputs": [],
   "source": []
  },
  {
   "cell_type": "code",
   "execution_count": null,
   "id": "4babdc2e",
   "metadata": {},
   "outputs": [],
   "source": [
    "Q9. Using matplotlib plot the following functions on the domain: x = 0.5 to 100.0 in steps of 0.5."
   ]
  },
  {
   "cell_type": "code",
   "execution_count": 8,
   "id": "cca21059",
   "metadata": {},
   "outputs": [
    {
     "data": {
      "image/png": "[encoded data removed]",
      "text/plain": [
       "<Figure size 1400x800 with 1 Axes>"
      ]
     },
     "metadata": {},
     "output_type": "display_data"
    }
   ],
   "source": [
    "import matplotlib.pyplot as plt\n",
    "import numpy as np\n",
    "\n",
    "# Define the domain\n",
    "x = np.arange(0.5, 100.5, 0.5)\n",
    "\n",
    "# Define the functions\n",
    "functions = [\n",
    "    (lambda x: x, 'f(x) = x'),\n",
    "    (lambda x: x**2, 'g(x) = x^2'),\n",
    "    (lambda x: x**3 / 100, 'h(x) = x^3 / 100'),\n",
    "    (lambda x: np.sin(x), 'i(x) = sin(x)'),\n",
    "    (lambda x: np.sin(x) / x, 'j(x) = sin(x) / x'),\n",
    "    (lambda x: np.log(x), 'k(x) = log(x)'),\n",
    "    (lambda x: np.e * x, 'm(x) = e * x')\n",
    "]\n",
    "\n",
    "# Create the plot\n",
    "plt.figure(figsize=(14, 8))\n",
    "\n",
    "# Plot each function\n",
    "for func, label in functions:\n",
    "    plt.plot(x, func(x), label=label)\n",
    "\n",
    "# Adding titles and labels\n",
    "plt.title('Plot of Various Functions')\n",
    "plt.xlabel('x')\n",
    "plt.ylabel('Function values')\n",
    "plt.legend()\n",
    "plt.ylim(-10, 1000)  # Set y-axis limits for better visualization\n",
    "\n",
    "# Show the plot\n",
    "plt.show()\n"
   ]
  },
  {
   "cell_type": "code",
   "execution_count": null,
   "id": "355f3cab",
   "metadata": {},
   "outputs": [],
   "source": []
  },
  {
   "cell_type": "markdown",
   "id": "de7348bd",
   "metadata": {},
   "source": [
    "Q10. Using numpy generate a matrix of size 20X5 containing random numbers drawn uniformly from the range of 1 to 2. Using Pandas create a dataframe out of this matrix. Name the columns of the dataframe as “a”, “b”, “c”, “d”, “e”. Find the column with the highest standard deviation. Find the row with the lowest mean."
   ]
  },
  {
   "cell_type": "code",
   "execution_count": 7,
   "id": "e6d9f8d3",
   "metadata": {},
   "outputs": [
    {
     "name": "stdout",
     "output_type": "stream",
     "text": [
      "Column with highest standard deviation: e\n",
      "Row with lowest mean: 16\n"
     ]
    }
   ],
   "source": [
    "import numpy as np\n",
    "import pandas as pd\n",
    "\n",
    "# Generate a 20x5 matrix of random numbers between 1 and 2\n",
    "data = np.random.uniform(1, 2, size=(20, 5))\n",
    "\n",
    "# Create a Pandas DataFrame\n",
    "df = pd.DataFrame(data, columns=['a', 'b', 'c', 'd', 'e'])\n",
    "\n",
    "# Find the column with the highest standard deviation\n",
    "column_with_highest_std = df.std().idxmax()\n",
    "print(\"Column with highest standard deviation:\", column_with_highest_std)\n",
    "\n",
    "# Find the row with the lowest mean\n",
    "row_with_lowest_mean = df.mean(axis=1).idxmin()\n",
    "print(\"Row with lowest mean:\", row_with_lowest_mean)\n"
   ]
  },
  {
   "cell_type": "code",
   "execution_count": null,
   "id": "5adb8539",
   "metadata": {},
   "outputs": [],
   "source": []
  },
  {
   "cell_type": "markdown",
   "id": "3164cf57",
   "metadata": {},
   "source": [
    "Q11. Add a new column to the dataframe called “f” which is the sum of the columns “a”, “b”, “c”, “d”, “e”. Create another column called “g”. The value in the column “g” should be “LT8” if the value in the column “f” is less than 8 and “GT8” otherwise. Find the number of rows in the dataframe where the value in the column “g” is “LT8”. Find the standard deviation of the column “f” for the rows where the value in the column “g” is “LT8” and “GT8” respectively."
   ]
  },
  {
   "cell_type": "code",
   "execution_count": 6,
   "id": "2c78a2fb",
   "metadata": {},
   "outputs": [
    {
     "ename": "NameError",
     "evalue": "name 'df' is not defined",
     "output_type": "error",
     "traceback": [
      "\u001b[1;31m---------------------------------------------------------------------------\u001b[0m",
      "\u001b[1;31mNameError\u001b[0m                                 Traceback (most recent call last)",
      "\u001b[1;32m~\\AppData\\Local\\Temp\\ipykernel_13756\\726389499.py\u001b[0m in \u001b[0;36m<module>\u001b[1;34m\u001b[0m\n\u001b[0;32m      1\u001b[0m \u001b[1;31m# Add a new column \"f\" which is the sum of \"a\", \"b\", \"c\", \"d\", \"e\"\u001b[0m\u001b[1;33m\u001b[0m\u001b[1;33m\u001b[0m\u001b[1;33m\u001b[0m\u001b[0m\n\u001b[1;32m----> 2\u001b[1;33m \u001b[0mdf\u001b[0m\u001b[1;33m[\u001b[0m\u001b[1;34m'f'\u001b[0m\u001b[1;33m]\u001b[0m \u001b[1;33m=\u001b[0m \u001b[0mdf\u001b[0m\u001b[1;33m[\u001b[0m\u001b[1;33m[\u001b[0m\u001b[1;34m'a'\u001b[0m\u001b[1;33m,\u001b[0m \u001b[1;34m'b'\u001b[0m\u001b[1;33m,\u001b[0m \u001b[1;34m'c'\u001b[0m\u001b[1;33m,\u001b[0m \u001b[1;34m'd'\u001b[0m\u001b[1;33m,\u001b[0m \u001b[1;34m'e'\u001b[0m\u001b[1;33m]\u001b[0m\u001b[1;33m]\u001b[0m\u001b[1;33m.\u001b[0m\u001b[0msum\u001b[0m\u001b[1;33m(\u001b[0m\u001b[0maxis\u001b[0m\u001b[1;33m=\u001b[0m\u001b[1;36m1\u001b[0m\u001b[1;33m)\u001b[0m\u001b[1;33m\u001b[0m\u001b[1;33m\u001b[0m\u001b[0m\n\u001b[0m\u001b[0;32m      3\u001b[0m \u001b[1;33m\u001b[0m\u001b[0m\n\u001b[0;32m      4\u001b[0m \u001b[1;31m# Create a new column \"g\" based on the value in \"f\"\u001b[0m\u001b[1;33m\u001b[0m\u001b[1;33m\u001b[0m\u001b[1;33m\u001b[0m\u001b[0m\n\u001b[0;32m      5\u001b[0m \u001b[0mdf\u001b[0m\u001b[1;33m[\u001b[0m\u001b[1;34m'g'\u001b[0m\u001b[1;33m]\u001b[0m \u001b[1;33m=\u001b[0m \u001b[0mnp\u001b[0m\u001b[1;33m.\u001b[0m\u001b[0mwhere\u001b[0m\u001b[1;33m(\u001b[0m\u001b[0mdf\u001b[0m\u001b[1;33m[\u001b[0m\u001b[1;34m'f'\u001b[0m\u001b[1;33m]\u001b[0m \u001b[1;33m<\u001b[0m \u001b[1;36m8\u001b[0m\u001b[1;33m,\u001b[0m \u001b[1;34m'LT8'\u001b[0m\u001b[1;33m,\u001b[0m \u001b[1;34m'GT8'\u001b[0m\u001b[1;33m)\u001b[0m\u001b[1;33m\u001b[0m\u001b[1;33m\u001b[0m\u001b[0m\n",
      "\u001b[1;31mNameError\u001b[0m: name 'df' is not defined"
     ]
    }
   ],
   "source": [
    "# Add a new column \"f\" which is the sum of \"a\", \"b\", \"c\", \"d\", \"e\"\n",
    "df['f'] = df[['a', 'b', 'c', 'd', 'e']].sum(axis=1)\n",
    "\n",
    "# Create a new column \"g\" based on the value in \"f\"\n",
    "df['g'] = np.where(df['f'] < 8, 'LT8', 'GT8')\n",
    "\n",
    "# Find the number of rows where \"g\" is \"LT8\"\n",
    "count_lt8 = (df['g'] == 'LT8').sum()\n",
    "print(\"Number of rows where g is LT8:\", count_lt8)\n",
    "\n",
    "# Find the standard deviation of \"f\" for rows where \"g\" is \"LT8\" and \"GT8\"\n",
    "std_lt8 = df[df['g'] == 'LT8']['f'].std()\n",
    "std_gt8 = df[df['g'] == 'GT8']['f'].std()\n",
    "print(\"Standard deviation of f for LT8:\", std_lt8)\n",
    "print(\"Standard deviation of f for GT8:\", std_gt8)\n"
   ]
  },
  {
   "cell_type": "code",
   "execution_count": null,
   "id": "13759cdf",
   "metadata": {},
   "outputs": [],
   "source": []
  },
  {
   "cell_type": "markdown",
   "id": "d6aaf2ac",
   "metadata": {},
   "source": [
    "Q12. Write a small piece of code to explain broadcasting in numpy."
   ]
  },
  {
   "cell_type": "markdown",
   "id": "2cbab242",
   "metadata": {},
   "source": [
    "Broadcasting in NumPy allows us to perform arithmetic operations on arrays of different shapes in a way that makes sense, without having to explicitly resize or replicate them. Here's a small piece of code to explain how broadcasting works in NumPy:"
   ]
  },
  {
   "cell_type": "code",
   "execution_count": 5,
   "id": "5d485f92",
   "metadata": {},
   "outputs": [
    {
     "name": "stdout",
     "output_type": "stream",
     "text": [
      "Array a:\n",
      "[1 2 3]\n",
      "Shape of a: (3,)\n",
      "\n",
      "Array b:\n",
      "[[10]\n",
      " [20]\n",
      " [30]]\n",
      "Shape of b: (3, 1)\n",
      "\n",
      "Result of a + b:\n",
      "[[11 12 13]\n",
      " [21 22 23]\n",
      " [31 32 33]]\n",
      "Shape of result: (3, 3)\n"
     ]
    }
   ],
   "source": [
    "import numpy as np\n",
    "\n",
    "# Create two arrays of different shapes\n",
    "a = np.array([1, 2, 3])      # Shape (3,)\n",
    "b = np.array([[10], [20], [30]])  # Shape (3, 1)\n",
    "\n",
    "# Broadcasting addition\n",
    "result = a + b\n",
    "\n",
    "# Print the arrays and the result\n",
    "print(\"Array a:\")\n",
    "print(a)\n",
    "print(\"Shape of a:\", a.shape)\n",
    "\n",
    "print(\"\\nArray b:\")\n",
    "print(b)\n",
    "print(\"Shape of b:\", b.shape)\n",
    "\n",
    "print(\"\\nResult of a + b:\")\n",
    "print(result)\n",
    "print(\"Shape of result:\", result.shape)\n"
   ]
  },
  {
   "cell_type": "markdown",
   "id": "6cf20ee9",
   "metadata": {},
   "source": [
    "Explanation:\n",
    "\n",
    "Array a has shape (3,), meaning it is a 1-dimensional array with 3 elements.\n",
    "Array b has shape (3, 1), meaning it is a 2-dimensional array with 3 rows and 1 column.\n",
    "When adding a and b, NumPy broadcasts the smaller array (a) to match the shape of the larger array (b).\n",
    "Broadcasting works by \"stretching\" the smaller array along the dimension(s) of size 1 to match the size of the larger array. In this case:\n",
    "\n",
    "a is stretched from shape (3,) to shape (3, 3).\n",
    "The addition is performed element-wise after broadcasting, resulting in an array of shape (3, 3).\n",
    "Broadcasting allows for efficient and concise code when working with arrays of different shapes."
   ]
  },
  {
   "cell_type": "code",
   "execution_count": null,
   "id": "170f8f50",
   "metadata": {},
   "outputs": [],
   "source": []
  },
  {
   "cell_type": "markdown",
   "id": "e1a0cd4e",
   "metadata": {},
   "source": [
    "Q13. Write a function to compute the argmin of a numpy array. The function should take a numpy array as input and return the index of the minimum element. You can use the np.argmin function to verify your solution."
   ]
  },
  {
   "cell_type": "code",
   "execution_count": 4,
   "id": "5aa9a4e7",
   "metadata": {},
   "outputs": [
    {
     "name": "stdout",
     "output_type": "stream",
     "text": [
      "Array: [3 1 4 1 5 9 2 6 5]\n",
      "Index of the minimum element using custom_argmin: 1\n",
      "Index of the minimum element using np.argmin: 1\n"
     ]
    }
   ],
   "source": [
    "import numpy as np\n",
    "\n",
    "def custom_argmin(arr):\n",
    "    if len(arr) == 0:\n",
    "        raise ValueError(\"The array cannot be empty\")\n",
    "        \n",
    "    min_index = 0\n",
    "    min_value = arr[0]\n",
    "    \n",
    "    for i in range(1, len(arr)):\n",
    "        if arr[i] < min_value:\n",
    "            min_value = arr[i]\n",
    "            min_index = i\n",
    "    \n",
    "    return min_index\n",
    "\n",
    "# Test the function\n",
    "arr = np.array([3, 1, 4, 1, 5, 9, 2, 6, 5])\n",
    "print(\"Array:\", arr)\n",
    "\n",
    "# Using the custom function\n",
    "min_index_custom = custom_argmin(arr)\n",
    "print(\"Index of the minimum element using custom_argmin:\", min_index_custom)\n",
    "\n",
    "# Verifying with np.argmin\n",
    "min_index_np = np.argmin(arr)\n",
    "print(\"Index of the minimum element using np.argmin:\", min_index_np)\n",
    "\n",
    "# Ensure both results match\n",
    "assert min_index_custom == min_index_np, \"The results do not match!\"\n"
   ]
  }
 ],
 "metadata": {
  "kernelspec": {
   "display_name": "Python 3 (ipykernel)",
   "language": "python",
   "name": "python3"
  },
  "language_info": {
   "codemirror_mode": {
    "name": "ipython",
    "version": 3
   },
   "file_extension": ".py",
   "mimetype": "text/x-python",
   "name": "python",
   "nbconvert_exporter": "python",
   "pygments_lexer": "ipython3",
   "version": "3.7.5"
  }
 },
 "nbformat": 4,
 "nbformat_minor": 5
}
